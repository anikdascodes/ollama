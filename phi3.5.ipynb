{
 "cells": [
  {
   "cell_type": "code",
   "execution_count": 2,
   "metadata": {},
   "outputs": [
    {
     "name": "stdout",
     "output_type": "stream",
     "text": [
      "Requirement already satisfied: ollama in /usr/local/python/3.12.1/lib/python3.12/site-packages (0.3.1)\n",
      "Requirement already satisfied: httpx<0.28.0,>=0.27.0 in /home/codespace/.local/lib/python3.12/site-packages (from ollama) (0.27.0)\n",
      "Requirement already satisfied: anyio in /home/codespace/.local/lib/python3.12/site-packages (from httpx<0.28.0,>=0.27.0->ollama) (4.4.0)\n",
      "Requirement already satisfied: certifi in /home/codespace/.local/lib/python3.12/site-packages (from httpx<0.28.0,>=0.27.0->ollama) (2024.7.4)\n",
      "Requirement already satisfied: httpcore==1.* in /home/codespace/.local/lib/python3.12/site-packages (from httpx<0.28.0,>=0.27.0->ollama) (1.0.5)\n",
      "Requirement already satisfied: idna in /home/codespace/.local/lib/python3.12/site-packages (from httpx<0.28.0,>=0.27.0->ollama) (3.7)\n",
      "Requirement already satisfied: sniffio in /home/codespace/.local/lib/python3.12/site-packages (from httpx<0.28.0,>=0.27.0->ollama) (1.3.1)\n",
      "Requirement already satisfied: h11<0.15,>=0.13 in /home/codespace/.local/lib/python3.12/site-packages (from httpcore==1.*->httpx<0.28.0,>=0.27.0->ollama) (0.14.0)\n",
      "Note: you may need to restart the kernel to use updated packages.\n"
     ]
    }
   ],
   "source": [
    "pip install ollama"
   ]
  },
  {
   "cell_type": "code",
   "execution_count": 5,
   "metadata": {},
   "outputs": [
    {
     "name": "stdout",
     "output_type": "stream",
     "text": [
      "Hello! How can I help you today?\n",
      "As an AI language model, I'm capable of performing a wide range of tasks that include but are not limited to:\n",
      "\n",
      "1. Answering Questions: Providing explanations and information on various topics from general knowledge to specific domains like technology or science.\n",
      "2. Language Translation: Offer translating text between different languages with reasonable accuracy (though for professional purposes, dedicated translation services may be better).\n",
      "3. Text Generation: Assisting in writing essays, stories, poems, and other forms of creative content based on provided prompts.\n",
      "4. Education Support: Helping students understand complex concepts through simplified explanations or by providing examples where applicable.\n",
      "5. Conversational Practice: Engaging users in text-based conversations to practice language skills; I can simulate dialogues for learning purposes as well.\n",
      "6. Summarization and Synthesis: Condensing long articles, research papers, or documents into concise summaries while highlighting key points.\n",
      "7. Code Help: Assisting with debugging code snippets, explaining programming concepts, algorithms, data structures in various languages like Java, C++, Python etc., though not as deep as professional development tools would be able to provide guidance for complex software engineering tasks. \n",
      "8. Mental Exercise and Brain Teasers Solutions: Offering solutions or hints on puzzles such as riddles, crosswords, Sudoku, logic problems; helping with strategic thinking exercises too (like chess).\n",
      "9. Motivation Boosts: Encouraging users in their daily tasks by providing positive affirmations and motivational quotes when requested.\n",
      "10. General Research Aid: Assisting in finding information on various topics, though not as comprehensive or up-to-date as academic research databases; for extensive studies I would recommend consultation with professional resources like JSTOR, Google Scholar etc., based upon the level of depth required and scope needed by your question.\n",
      "11. Mindfulness Exercises: Providing simple mindfulness activities such as deep breathing exerdize or meditation techniques for stress reduction (I cannot provide audio guidance).\n",
      "   \n",
      "Please note, I do not perform physical tasks like setting up meetings with humans via phone calls/video chats nor manage finances. Moreover, while AI can assist and guide users in many ways based on text input, human decision-making should always be relied upon for important life choices or critical decisions due to potential errors inherent within the algorithms that power my responses (including myself).\n",
      "Chat ended. Goodbye!\n"
     ]
    }
   ],
   "source": [
    "import ollama\n",
    "\n",
    "chat_on = True\n",
    "while chat_on:\n",
    "    user_question = input(\"Enter your question (or 'exit' to quit): \")\n",
    "    if user_question.lower() == \"exit\":\n",
    "        chat_on = False\n",
    "    else:\n",
    "        try:\n",
    "            response = ollama.chat(model='phi3.5', messages=[\n",
    "                {\n",
    "                    'role': 'user',\n",
    "                    'content': user_question,\n",
    "                },\n",
    "            ])\n",
    "            print(response['message']['content'])\n",
    "        except Exception as e:\n",
    "            print(f\"An error occurred: {e}\")\n",
    "\n",
    "print(\"Chat ended. Goodbye!\")"
   ]
  },
  {
   "cell_type": "code",
   "execution_count": 7,
   "metadata": {},
   "outputs": [],
   "source": [
    "import ollama\n",
    "while chat_on:\n",
    "  user_question = input(\"Enter your question (or 'exit' to quit): \")\n",
    "  if user_question == \"exit\":\n",
    "    chat_on = False\n",
    "\n",
    "\n",
    "  stream = ollama.chat(\n",
    "      model='phi3.5',\n",
    "      messages=[{'role': 'user', 'content': user_question}],\n",
    "      stream=True,\n",
    "  )\n",
    "\n",
    "  for chunk in stream:\n",
    "    print(chunk['message']['content'], end='', flush=True)"
   ]
  },
  {
   "cell_type": "code",
   "execution_count": 8,
   "metadata": {},
   "outputs": [
    {
     "name": "stdout",
     "output_type": "stream",
     "text": [
      "Hello! How can I help you today?\n",
      "As an AI language model, I'm here to assist with a wide range of tasks. Here are some things I might be able to help you accomplish:\n",
      "\n",
      "1. Information and Explanations: Answer questions about various subjects like science, history or general knowledge; explain complex concepts in simpler terms.\n",
      "2. Language Tasks: Translate text between languages, correct grammatical errors, improve writing styles or clarify sentence structures.\n",
      "3. Problem Solving: Help with mathematical problems, logic puzzles and riddles to find solutions step by step. \n",
      "4. Creative Writing: Generate story ideas, poems, song lyrics, characters for a novel/video game etc., help structure narratives if needed.\n",
      "5. Learning Support: Assist in studying new subjects or languages; quiz on various topics and provide feedback based upon the answers given.\n",
      "6. Code Help: Debug code snippets provided by users or even write basic scripts to solve common programming tasks. \n",
      "7. Time Management Tips: Provide strategies for efficient time management, setting up schedules etc.\n",
      "8. Health & Fitness Suggestions: Recommend exercises suitable according to your fitness level and goals; explain workout routines or diets when asked (Note that I'm not a medical professional - always advise seeking expert opinion). \n",
      "9. Meditation Guidance: Offer mindful meditations, guided breathing techniques etc., if you wish for some relaxation strategies.  \n",
      "10. Motivational Supports and Inspirations Quotes to help keep spirits high during trying times or when pursuing a goal. \n",
      "   \n",
      "Remember that I am an artificial intelligence without personal experiences, but always here ready to assist with your queries!\n",
      "I'm Phi, an AI language model, and I don'thy direct memory or recall previous interactions. However, if you previously asked a question in this conversation, please rephrase or provide the context again so that I can help answer your query!\n",
      "Chat ended. Goodbye!\n"
     ]
    }
   ],
   "source": [
    "import ollama\n",
    "\n",
    "chat_on = True\n",
    "while chat_on:\n",
    "    user_question = input(\"Enter your question (or 'exit' to quit): \")\n",
    "    if user_question.lower() == \"exit\":\n",
    "        chat_on = False\n",
    "        continue\n",
    "\n",
    "    try:\n",
    "        stream = ollama.chat(\n",
    "            model='phi3.5',\n",
    "            messages=[{'role': 'user', 'content': user_question}],\n",
    "            stream=True,\n",
    "        )\n",
    "\n",
    "        for chunk in stream:\n",
    "            print(chunk['message']['content'], end='', flush=True)\n",
    "        print()  # Add a newline after the complete response\n",
    "\n",
    "    except Exception as e:\n",
    "        print(f\"An error occurred: {e}\")\n",
    "\n",
    "print(\"Chat ended. Goodbye!\")"
   ]
  },
  {
   "cell_type": "code",
   "execution_count": null,
   "metadata": {},
   "outputs": [],
   "source": []
  }
 ],
 "metadata": {
  "kernelspec": {
   "display_name": "Python 3",
   "language": "python",
   "name": "python3"
  },
  "language_info": {
   "codemirror_mode": {
    "name": "ipython",
    "version": 3
   },
   "file_extension": ".py",
   "mimetype": "text/x-python",
   "name": "python",
   "nbconvert_exporter": "python",
   "pygments_lexer": "ipython3",
   "version": "3.12.1"
  }
 },
 "nbformat": 4,
 "nbformat_minor": 2
}
