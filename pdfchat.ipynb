{
 "cells": [
  {
   "cell_type": "code",
   "execution_count": 6,
   "metadata": {},
   "outputs": [],
   "source": [
    "import PyPDF2\n",
    "\n",
    "# Open the PDF file\n",
    "with open('The Ultimate Python Handbook.pdf', 'rb') as file:\n",
    "    reader = PyPDF2.PdfReader(file)\n",
    "    pdf_text = ''\n",
    "    \n",
    "    # Extract text from each page\n",
    "    for page in reader.pages:\n",
    "        pdf_text += page.extract_text()\n",
    "\n",
    "\n"
   ]
  },
  {
   "cell_type": "code",
   "execution_count": 10,
   "metadata": {},
   "outputs": [
    {
     "name": "stdout",
     "output_type": "stream",
     "text": [
      "Python is a versatile language that has been widely used for both scientific research and applications in various fields. It was originally developed by Guido van Rossum at Sun Microsystems but it has evolved over time to become the most widely used programming language today.\n",
      "\n",
      "In terms of its codebase, Python uses a declarative syntax and supports object-oriented programming paradigms such as functional programming (Python 3) and declarative style languages like Lisp. It is also one of the first languages developed for general-purpose computer programs in which programmers can write efficient and elegant codes with ease.\n",
      "\n",
      "As of 2021, Python's codebase has grown to become over two million lines long thanks to a significant number of contributions from many people around the world. Python is also widely used in various other programming environments such as JavaScript, Java, Ruby, Perl, C#, etc., and it is highly regarded for its readability and ease-of-use.\n",
      "\n",
      "Python has been instrumental in many groundbreaking technologies such as web development, artificial intelligence (AI), natural language processing, robotics, data analysis, machine learning, and more. Python's success can be attributed to the availability of libraries and tools like NumPy, Pandas, Scikit-learn, TensorFlow, PyTorch, Jupyter Notebook, etc., which have significantly simplified the process of creating computer programs and increased efficiency in many fields.\n",
      "\n",
      "In summary, Python is a powerful, versatile, and widely used language that has been instrumental in numerous areas such as science, technology, engineering, and business. It offers many advantages over other programming languages in terms of readability, ease-of-use, code organization, and the ability to write efficient and elegant codes with high quality. As a result, Python remains one of the most popular languages for many developers around the world."
     ]
    }
   ],
   "source": [
    "import ollama\n",
    "\n",
    "# Initialize the chat with a system prompt that contains the PDF content\n",
    "system_prompt = \"\"\"\n",
    "You are a knowledgeable assistant. You can only provide answers based on the following document content:\n",
    "\n",
    "{pdf_content}\n",
    "\"\"\"\n",
    "\n",
    "# Replace {pdf_content} with the extracted text from the PDF\n",
    "system_prompt = system_prompt.format(pdf_content=pdf_text)\n",
    "\n",
    "stream = ollama.chat(\n",
    "    model='qwen2:0.5b',\n",
    "    messages=[\n",
    "        {'role': 'system', 'content': system_prompt},\n",
    "        {'role': 'user', 'content': 'why python'}\n",
    "    ],\n",
    "    stream=True,\n",
    ")\n",
    "\n",
    "for chunk in stream:\n",
    "    print(chunk['message']['content'], end='', flush=True)\n"
   ]
  },
  {
   "cell_type": "code",
   "execution_count": null,
   "metadata": {},
   "outputs": [],
   "source": []
  }
 ],
 "metadata": {
  "kernelspec": {
   "display_name": "Python 3",
   "language": "python",
   "name": "python3"
  },
  "language_info": {
   "codemirror_mode": {
    "name": "ipython",
    "version": 3
   },
   "file_extension": ".py",
   "mimetype": "text/x-python",
   "name": "python",
   "nbconvert_exporter": "python",
   "pygments_lexer": "ipython3",
   "version": "3.12.1"
  }
 },
 "nbformat": 4,
 "nbformat_minor": 2
}
