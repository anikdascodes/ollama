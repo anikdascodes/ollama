{
 "cells": [
  {
   "cell_type": "code",
   "execution_count": 1,
   "metadata": {},
   "outputs": [
    {
     "name": "stdout",
     "output_type": "stream",
     "text": [
      "The sky appears blue due to a phenomenon called **Rayleigh scattering**.\n",
      "\n",
      "Here's a breakdown:\n",
      "\n",
      "1. **Sunlight:** Sunlight is actually made up of all the colors of the rainbow.\n",
      "2. **Atmosphere:** Earth's atmosphere is composed of tiny particles like nitrogen and oxygen molecules.\n",
      "3. **Scattering:** When sunlight enters the atmosphere, it collides with these particles. This causes the light to scatter in different directions.\n",
      "4. **Wavelengths:** Blue light has a shorter wavelength than other colors in the visible spectrum. \n",
      "5. **Shorter Wavelengths Scatter More:** Because of this shorter wavelength, blue light is scattered more effectively by the atmospheric particles than other colors.\n",
      "6. **Our Perception:**  As a result, we see the scattered blue light coming from all directions in the sky, making it appear blue.\n",
      "\n",
      "**Why not violet?** While violet light has an even shorter wavelength and scatters even more, our eyes are less sensitive to violet light. This, combined with the intensity of sunlight at different wavelengths, contributes to the dominance of blue in our perception.\n",
      "\n",
      "\n",
      "Let me know if you have any other questions!"
     ]
    }
   ],
   "source": [
    "import ollama\n",
    "\n",
    "stream = ollama.chat(\n",
    "    model='gemma2',\n",
    "    messages=[{'role': 'user', 'content': 'Why is the sky blue?'}],\n",
    "    stream=True,\n",
    ")\n",
    "\n",
    "for chunk in stream:\n",
    "  print(chunk['message']['content'], end='', flush=True)\n"
   ]
  },
  {
   "cell_type": "code",
   "execution_count": null,
   "metadata": {},
   "outputs": [],
   "source": []
  }
 ],
 "metadata": {
  "kernelspec": {
   "display_name": "Python 3",
   "language": "python",
   "name": "python3"
  },
  "language_info": {
   "codemirror_mode": {
    "name": "ipython",
    "version": 3
   },
   "file_extension": ".py",
   "mimetype": "text/x-python",
   "name": "python",
   "nbconvert_exporter": "python",
   "pygments_lexer": "ipython3",
   "version": "3.12.1"
  }
 },
 "nbformat": 4,
 "nbformat_minor": 2
}
