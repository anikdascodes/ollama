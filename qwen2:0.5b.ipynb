{
 "cells": [
  {
   "cell_type": "code",
   "execution_count": 1,
   "metadata": {},
   "outputs": [
    {
     "name": "stdout",
     "output_type": "stream",
     "text": [
      "The reason why the sky appears blue is due to the scattering of sunlight by tiny particles called water droplets or ice crystals. \n",
      "\n",
      "When sunlight strikes an object, it hits molecules in its surface and breaks down into small energy levels. These energies are then scattered through space, creating a pattern known as彩虹纹(虹膜纹) that looks like a rainbow. \n",
      "\n",
      "As more light is absorbed (retrieved) by water droplets or ice crystals, the resulting energy levels become less energetic and more concentrated at one end of the spectrum (blue) than in other parts of the spectrum. This causes the sky to appear blue.\n",
      "\n",
      "Water vapor molecules absorb these smaller particles from sunlight and concentrate them at certain wavelengths, while some others scatter it away and spread out over more long wavelength. The resulting blue color of the sky is the result of the scattering of light by water droplets and ice crystals as they interact with the atmosphere."
     ]
    }
   ],
   "source": [
    "import ollama\n",
    "\n",
    "stream = ollama.chat(\n",
    "    model='qwen2:0.5b',\n",
    "    messages=[{'role': 'user', 'content': 'Why is the sky blue?'}],\n",
    "    stream=True,\n",
    ")\n",
    "\n",
    "for chunk in stream:\n",
    "  print(chunk['message']['content'], end='', flush=True)"
   ]
  },
  {
   "cell_type": "code",
   "execution_count": null,
   "metadata": {},
   "outputs": [],
   "source": []
  }
 ],
 "metadata": {
  "kernelspec": {
   "display_name": "Python 3",
   "language": "python",
   "name": "python3"
  },
  "language_info": {
   "codemirror_mode": {
    "name": "ipython",
    "version": 3
   },
   "file_extension": ".py",
   "mimetype": "text/x-python",
   "name": "python",
   "nbconvert_exporter": "python",
   "pygments_lexer": "ipython3",
   "version": "3.12.1"
  }
 },
 "nbformat": 4,
 "nbformat_minor": 2
}
