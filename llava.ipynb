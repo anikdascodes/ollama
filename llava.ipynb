{
 "cells": [
  {
   "cell_type": "code",
   "execution_count": 4,
   "metadata": {},
   "outputs": [
    {
     "name": "stdout",
     "output_type": "stream",
     "text": [
      " I'm sorry, but I cannot see any images or files in my current state as a text-based AI language model. However, if you can provide more information or context about the image, I may be able to assist you further. "
     ]
    }
   ],
   "source": [
    "import ollama\n",
    "\n",
    "image = \"download.jpeg\"\n",
    "stream = ollama.chat(\n",
    "    model='llava',\n",
    "    messages=[{'role': 'user', 'content': f\"what have on the image: {image}?\"}],\n",
    "    stream=True,\n",
    ")\n",
    "\n",
    "for chunk in stream:\n",
    "  print(chunk['message']['content'], end='', flush=True)"
   ]
  },
  {
   "cell_type": "code",
   "execution_count": 4,
   "metadata": {},
   "outputs": [
    {
     "name": "stdout",
     "output_type": "stream",
     "text": [
      " No, there are no texts present in the image. It only contains a picture of Shahrukh Khan. \n",
      "LLaVA's answer:  No, there are no texts present in the image. It only contains a picture of Shahrukh Khan. \n"
     ]
    }
   ],
   "source": [
    "import ollama\n",
    "\n",
    "def ask_about_image(image_path, question):\n",
    "    stream = ollama.chat(\n",
    "        model='llava',\n",
    "        messages=[\n",
    "            {'role': 'user', 'content': f'Here is an image: {image_path}'},\n",
    "            {'role': 'user', 'content': question},\n",
    "        ],\n",
    "        stream=True,\n",
    "    )\n",
    "\n",
    "    response = \"\"\n",
    "    for chunk in stream:\n",
    "        response += chunk['message']['content']\n",
    "        print(chunk['message']['content'], end='', flush=True)\n",
    "\n",
    "    return response\n",
    "\n",
    "# Example usage\n",
    "image_path = 'Shah-Rukh-Khan.jpg'\n",
    "question = 'have any text on the image'\n",
    "\n",
    "answer = ask_about_image(image_path, question)\n",
    "print(f\"\\nLLaVA's answer: {answer}\")\n"
   ]
  },
  {
   "cell_type": "code",
   "execution_count": 6,
   "metadata": {},
   "outputs": [
    {
     "name": "stdout",
     "output_type": "stream",
     "text": [
      " I'm sorry, but there is no text present in the image you provided. The image appears to be a screenshot of a computer desktop with a window open in the background, but no visible text. \n",
      "LLaVA's answer:  I'm sorry, but there is no text present in the image you provided. The image appears to be a screenshot of a computer desktop with a window open in the background, but no visible text. \n"
     ]
    }
   ],
   "source": [
    "import ollama\n",
    "\n",
    "def ask_about_image(image_path, question):\n",
    "    stream = ollama.chat(\n",
    "        model='llava',\n",
    "        messages=[\n",
    "            {'role': 'user', 'content': f'Here is an image: {image_path}'},\n",
    "            {'role': 'user', 'content': question},\n",
    "        ],\n",
    "        stream=True,\n",
    "    )\n",
    "\n",
    "    response = \"\"\n",
    "    for chunk in stream:\n",
    "        response += chunk['message']['content']\n",
    "        print(chunk['message']['content'], end='', flush=True)\n",
    "\n",
    "    return response\n",
    "\n",
    "# Example usage\n",
    "image_path = 'Screenshot from 2024-08-28 12-32-58.png'\n",
    "question = 'have any text on the image?, if have what text have give me the texts as it is to me'\n",
    "\n",
    "answer = ask_about_image(image_path, question)\n",
    "print(f\"\\nLLaVA's answer: {answer}\")\n"
   ]
  },
  {
   "cell_type": "code",
   "execution_count": null,
   "metadata": {},
   "outputs": [],
   "source": []
  }
 ],
 "metadata": {
  "kernelspec": {
   "display_name": "Python 3",
   "language": "python",
   "name": "python3"
  },
  "language_info": {
   "codemirror_mode": {
    "name": "ipython",
    "version": 3
   },
   "file_extension": ".py",
   "mimetype": "text/x-python",
   "name": "python",
   "nbconvert_exporter": "python",
   "pygments_lexer": "ipython3",
   "version": "3.12.1"
  }
 },
 "nbformat": 4,
 "nbformat_minor": 2
}
