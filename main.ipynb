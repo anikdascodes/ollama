{
 "cells": [
  {
   "cell_type": "code",
   "execution_count": 1,
   "metadata": {},
   "outputs": [
    {
     "name": "stdout",
     "output_type": "stream",
     "text": [
      "The color of the sky appears predominantly blue to our eyes due to a phenomenon called Rayleigh scattering. When sunlight enters Earth's atmosphere, it collides with molecules and small particles in air such as nitrodictioxide (NO2), ozone (O3), water vapor, carbon dioxide (CO2), and particulates from dust or pollen; these are much smaller than the wavelength of visible light.\n",
      "\n",
      "Sunlight is composed of a spectrum of colors that range across different wavelengths—each color bends at its own unique angle when they hit objects like air molecules, which act as tiny prisms due to their size being significantly shorter compared with waves in sunlight (about 0.75 nanometers). This refraction causes each component of the light spectrum —violet red blue green yellow and so on—to scatter at slightly different angles depending upon its wavelength: colors closer towards violet, which have a short wavelength range between about 380 to 450nm bend more sharply than those toward orange or red with longer waves.\n",
      "\n",
      "As these shorter blue photons (around the region of approximately 476 nm) scatter off air molecules during daylight hours, they're redirected in all directions throughout our atmosphere—more effectively absorbed and re-emitted by nitrogenous compounds present —than their longer counterparts. This means more blue light reaches us from different angles above the horizon (where direct sun rays are absent) than any other colors do; resulting ultimately to a predominantly bluish sky during daytime hours under clear conditions in most places on Earth when viewed at an angle away from solar incidence lines down onto our atmosphere.\n",
      "\n",
      "Though this effect isn't always strong enough for the entirety of sunlight received across all angles —therefore sometimes yielding hazy white/gray skies, particularly after rain storms or during high pollution periods—the fundamental blue coloration phenomenon remains largely unchanged as a result solely from Rayleigh scatterings’ selective absorption based on wavelength differences between the constituent components within sunlight itself: red yellow green and violet (which combine to form white light).\n",
      "\n",
      "During twilight hours, when only limited solar radiation penetrates our atmosphere due largely because Earth's slanted axis has rotated away from direct ray incidence lines—a phenomenon observable in the sky color change into soft orange hues rather than stark blueness as day transitions toward evening or morning. In essence though: Rayleigh scattering does explain why we see skies that appear mostly blue during much of their daily cycle, barring weather events which can modify this experience significantly depending on local atmospheric composition factors (like dust storms) and regional pollution levels too!\n"
     ]
    }
   ],
   "source": [
    "import ollama\n",
    "\n",
    "\n",
    "response = ollama.chat(model='phi3.5', messages=[\n",
    "  {\n",
    "    'role': 'user',\n",
    "    'content': 'Why is the sky blue?',\n",
    "  },\n",
    "])\n",
    "print(response['message']['content'])"
   ]
  },
  {
   "cell_type": "code",
   "execution_count": 2,
   "metadata": {},
   "outputs": [
    {
     "name": "stdout",
     "output_type": "stream",
     "text": [
      "The sky appears blue to the human eye due to a phenomenon called Rayleigh scattering. When sunlight enters Earth's atmosphere, it interacts with gases and particles present in air molecules like nitrodictioxide (NO2) and ozone among others, which act as tiny prisms or mirrors causing shorter wavelength colors of light—which are blue/violet to the extent that they scatter more than other visible spectrum colours.\n",
      "\n",
      "As sunlight propagates through our atmosphere from space into Earth's surface via a specific angle (a direct vertical path), it disperses due to these gas and particulate interactions, spreading out or 'scattered'. When this scattered light reaches your eyes directly above where the Sun is located in the sky at midday for example, you see predominantly blue since that's how much shorter wavelength (blue) color scatters compared to others.\n",
      "\n",
      "The scatter of longer red/orange colors by air molecules are less noticeable when sunlight hits your eyes from this angle because they take a more direct path through our atmosphere and do not undergo as many collisions with atmospheric particles on their journey into the eye, hence making them appear dimmer.\n",
      "\n",
      "So in simple terms: It's all about light scattering off of molecules within Earth’s thin blanket (our air), bouncing around before reaching our eyes and when we look up at a clear sky during daylight hours or sunrise/sunset, the blue part gets scattered more due to its shorter wavelength which gives us that distinctive azure hue of skies.\n",
      "\n",
      "During twilight periods like dawns & dusk'',' it appears reddish because when Sun sets lower down in sky; we see longer-wavelength colors such as red, orange and yellow scattered more since these wavelenghts are less absorbed by atmospheric molecules during this angle of observation.\n",
      "Remember though that our atmosphere isn’t perfectly transparent so some degree of scattering will always occur making the sky appear blue most days unless other factors like pollution come into play which might alter its color spectrum and shade considerably changing what we observe every now then depending on current atmospheric conditions!"
     ]
    }
   ],
   "source": [
    "import ollama\n",
    "\n",
    "stream = ollama.chat(\n",
    "    model='phi3.5',\n",
    "    messages=[{'role': 'user', 'content': 'Why is the sky blue?'}],\n",
    "    stream=True,\n",
    ")\n",
    "\n",
    "for chunk in stream:\n",
    "  print(chunk['message']['content'], end='', flush=True)"
   ]
  },
  {
   "cell_type": "code",
   "execution_count": 3,
   "metadata": {},
   "outputs": [
    {
     "ename": "CompilerError",
     "evalue": "No LaTex compiler was found\nEither specify a LaTex compiler or make sure you have latexmk or pdfLaTex installed.",
     "output_type": "error",
     "traceback": [
      "\u001b[0;31m---------------------------------------------------------------------------\u001b[0m",
      "\u001b[0;31mCompilerError\u001b[0m                             Traceback (most recent call last)",
      "Cell \u001b[0;32mIn[3], line 28\u001b[0m\n\u001b[1;32m     25\u001b[0m         doc\u001b[38;5;241m.\u001b[39mappend(chunk[\u001b[38;5;124m'\u001b[39m\u001b[38;5;124mmessage\u001b[39m\u001b[38;5;124m'\u001b[39m][\u001b[38;5;124m'\u001b[39m\u001b[38;5;124mcontent\u001b[39m\u001b[38;5;124m'\u001b[39m])\n\u001b[1;32m     27\u001b[0m \u001b[38;5;66;03m# Step 4: Generate the LaTeX file and compile it to PDF\u001b[39;00m\n\u001b[0;32m---> 28\u001b[0m \u001b[43mdoc\u001b[49m\u001b[38;5;241;43m.\u001b[39;49m\u001b[43mgenerate_pdf\u001b[49m\u001b[43m(\u001b[49m\u001b[38;5;124;43m'\u001b[39;49m\u001b[38;5;124;43mollama_chat_response\u001b[39;49m\u001b[38;5;124;43m'\u001b[39;49m\u001b[43m,\u001b[49m\u001b[43m \u001b[49m\u001b[43mclean_tex\u001b[49m\u001b[38;5;241;43m=\u001b[39;49m\u001b[38;5;28;43;01mFalse\u001b[39;49;00m\u001b[43m)\u001b[49m\n",
      "File \u001b[0;32m/workspace/.pyenv_mirror/user/current/lib/python3.12/site-packages/pylatex/document.py:325\u001b[0m, in \u001b[0;36mDocument.generate_pdf\u001b[0;34m(self, filepath, clean, clean_tex, compiler, compiler_args, silent)\u001b[0m\n\u001b[1;32m    321\u001b[0m     \u001b[38;5;28;01mbreak\u001b[39;00m\n\u001b[1;32m    323\u001b[0m \u001b[38;5;28;01melse\u001b[39;00m:\n\u001b[1;32m    324\u001b[0m     \u001b[38;5;66;03m# Notify user that none of the compilers worked.\u001b[39;00m\n\u001b[0;32m--> 325\u001b[0m     \u001b[38;5;28;01mraise\u001b[39;00m (\n\u001b[1;32m    326\u001b[0m         CompilerError(\n\u001b[1;32m    327\u001b[0m             \u001b[38;5;124m\"\u001b[39m\u001b[38;5;124mNo LaTex compiler was found\u001b[39m\u001b[38;5;130;01m\\n\u001b[39;00m\u001b[38;5;124m\"\u001b[39m\n\u001b[1;32m    328\u001b[0m             \u001b[38;5;124m\"\u001b[39m\u001b[38;5;124mEither specify a LaTex compiler \u001b[39m\u001b[38;5;124m\"\u001b[39m\n\u001b[1;32m    329\u001b[0m             \u001b[38;5;124m\"\u001b[39m\u001b[38;5;124mor make sure you have latexmk or pdfLaTex installed.\u001b[39m\u001b[38;5;124m\"\u001b[39m\n\u001b[1;32m    330\u001b[0m         )\n\u001b[1;32m    331\u001b[0m     )\n\u001b[1;32m    333\u001b[0m \u001b[38;5;28;01mif\u001b[39;00m \u001b[38;5;129;01mnot\u001b[39;00m python_cwd_available:\n\u001b[1;32m    334\u001b[0m     os\u001b[38;5;241m.\u001b[39mchdir(cur_dir)\n",
      "\u001b[0;31mCompilerError\u001b[0m: No LaTex compiler was found\nEither specify a LaTex compiler or make sure you have latexmk or pdfLaTex installed."
     ]
    }
   ],
   "source": [
    "import ollama\n",
    "from pylatex import Document, Section, Command\n",
    "from pylatex.utils import NoEscape\n",
    "\n",
    "# Step 1: Initialize the chat and get the response\n",
    "stream = ollama.chat(\n",
    "    model='phi3.5',\n",
    "    messages=[{'role': 'user', 'content': 'Why is the sky blue?'}],\n",
    "    stream=True,\n",
    ")\n",
    "\n",
    "# Step 2: Initialize LaTeX document\n",
    "doc = Document()\n",
    "\n",
    "# Add title, author, and date to the LaTeX document\n",
    "doc.preamble.append(Command('title', 'Ollama Chat Response'))\n",
    "doc.preamble.append(Command('author', 'Generated by Python'))\n",
    "doc.preamble.append(Command('date', NoEscape(r'\\today')))\n",
    "doc.append(NoEscape(r'\\maketitle'))\n",
    "\n",
    "# Step 3: Add the content to the LaTeX document\n",
    "with doc.create(Section('Response')):\n",
    "    for chunk in stream:\n",
    "        # Collect and add the response to the LaTeX document\n",
    "        doc.append(chunk['message']['content'])\n",
    "\n",
    "# Step 4: Generate the LaTeX file and compile it to PDF\n",
    "doc.generate_pdf('ollama_chat_response', clean_tex=False)\n"
   ]
  },
  {
   "cell_type": "code",
   "execution_count": 4,
   "metadata": {},
   "outputs": [
    {
     "name": "stdout",
     "output_type": "stream",
     "text": [
      "Collecting sympy\n",
      "  Downloading sympy-1.13.2-py3-none-any.whl.metadata (12 kB)\n",
      "Requirement already satisfied: pygments in /home/gitpod/.pyenv/versions/3.12.4/lib/python3.12/site-packages (2.18.0)\n",
      "Collecting mpmath<1.4,>=1.1.0 (from sympy)\n",
      "  Downloading mpmath-1.3.0-py3-none-any.whl.metadata (8.6 kB)\n",
      "Downloading sympy-1.13.2-py3-none-any.whl (6.2 MB)\n",
      "\u001b[2K   \u001b[90m━━━━━━━━━━━━━━━━━━━━━━━━━━━━━━━━━━━━━━━━\u001b[0m \u001b[32m6.2/6.2 MB\u001b[0m \u001b[31m53.2 MB/s\u001b[0m eta \u001b[36m0:00:00\u001b[0m\n",
      "\u001b[?25hDownloading mpmath-1.3.0-py3-none-any.whl (536 kB)\n",
      "\u001b[2K   \u001b[90m━━━━━━━━━━━━━━━━━━━━━━━━━━━━━━━━━━━━━━━━\u001b[0m \u001b[32m536.2/536.2 kB\u001b[0m \u001b[31m27.0 MB/s\u001b[0m eta \u001b[36m0:00:00\u001b[0m\n",
      "\u001b[?25hInstalling collected packages: mpmath, sympy\n",
      "Successfully installed mpmath-1.3.0 sympy-1.13.2\n",
      "Note: you may need to restart the kernel to use updated packages.\n"
     ]
    }
   ],
   "source": [
    "pip install sympy pygments"
   ]
  },
  {
   "cell_type": "code",
   "execution_count": 5,
   "metadata": {},
   "outputs": [
    {
     "name": "stdout",
     "output_type": "stream",
     "text": [
      "The color of the sky can be explained by Rayleigh scattering, which occurs when sunlight passes through Earth' extraterrestrial atmosphere and interacts with molecules and small particles present in it. The shorter (blue) wavelengths are scattered more efficiently than longer wavelengths like red because they have higher energy according to the principles of quantum mechanics.\n",
      "\n",
      "Here is a simple Python function that uses NumPy, which can demonstrate light scattering qualitatively: It generates random directions for blue and red photons simulating their different probabilities due to Rayleigh Scattering (assuming idealized conditions):\n",
      "\n",
      "\\begin{verbatim}\n",
      "\\begin{Verbatim}[commandchars=\\\\\\{\\}]\n",
      "\\PY{n}{python}\n",
      "\\PY{k+kn}{import} \\PY{n+nn}{numpy} \\PY{k}{as} \\PY{n+nn}{np}\n",
      "\\PY{k+kn}{import} \\PY{n+nn}{matplotlib}\\PY{n+nn}{.}\\PY{n+nn}{pyplot} \\PY{k}{as} \\PY{n+nn}{plt}\n",
      "\\PY{k+kn}{from} \\PY{n+nn}{mpl\\PYZus{}toolkits}\\PY{n+nn}{.}\\PY{n+nn}{mplot3d} \\PY{k+kn}{import} \\PY{n}{Axes3D}\n",
      "\n",
      "\\PY{k}{def} \\PY{n+nf}{simulate\\PYZus{}light\\PYZus{}scatter}\\PY{p}{(}\\PY{n}{num\\PYZus{}photons}\\PY{o}{=}\\PY{l+m+mi}{1000}\\PY{p}{,} \\PY{n}{scattering}\\PY{o}{=}\\PY{l+s+s1}{\\PYZsq{}}\\PY{l+s+s1}{blue}\\PY{l+s+s1}{\\PYZsq{}}\\PY{p}{)}\\PY{p}{:}\n",
      "    \\PY{c+c1}{\\PYZsh{} Generate random angles for photon trajectories (in radians)}\n",
      "    \\PY{n}{phi} \\PY{o}{=} \\PY{n}{np}\\PY{o}{.}\\PY{n}{random}\\PY{o}{.}\\PY{n}{uniform}\\PY{p}{(}\\PY{l+m+mi}{0}\\PY{p}{,} \\PY{l+m+mi}{2} \\PY{o}{*} \\PY{n}{np}\\PY{o}{.}\\PY{n}{pi}\\PY{p}{,} \\PY{n}{num\\PYZus{}photons}\\PY{p}{)}  \n",
      "    \\PY{n}{theta} \\PY{o}{=} \\PY{n}{np}\\PY{o}{.}\\PY{n}{arccos}\\PY{p}{(}\\PY{l+m+mi}{1} \\PY{o}{\\PYZhy{}} \\PY{l+m+mi}{2}\\PY{o}{*}\\PY{n}{np}\\PY{o}{.}\\PY{n}{random}\\PY{o}{.}\\PY{n}{rand}\\PY{p}{(}\\PY{n}{num\\PYZus{}photons}\\PY{p}{)}\\PY{p}{)} \\PY{c+c1}{\\PYZsh{} The arccos function is used to sample between [0...π] uniformly    }\n",
      "    \n",
      "    \\PY{k}{if} \\PY{n}{scattering} \\PY{o}{==} \\PY{l+s+s1}{\\PYZsq{}}\\PY{l+s+s1}{blue}\\PY{l+s+s1}{\\PYZsq{}}\\PY{p}{:}\n",
      "        \\PY{n}{colors} \\PY{o}{=} \\PY{p}{[}\\PY{l+s+s1}{\\PYZsq{}}\\PY{l+s+s1}{x}\\PY{l+s+s1}{\\PYZsq{}}\\PY{p}{,} \\PY{l+s+s1}{\\PYZsq{}}\\PY{l+s+s1}{.}\\PY{l+s+s1}{\\PYZsq{}}\\PY{p}{]}   \\PY{c+c1}{\\PYZsh{} Blue photon will be represented by a point and its initial direction (not scattered) }\n",
      "    \\PY{k}{elif} \\PY{n}{scattering} \\PY{o}{==} \\PY{l+s+s1}{\\PYZsq{}}\\PY{l+s+s1}{red}\\PY{l+s+s1}{\\PYZsq{}}\\PY{p}{:}\n",
      "         \\PY{n}{phi} \\PY{o}{+}\\PY{o}{=} \\PY{n}{np}\\PY{o}{.}\\PY{n}{pi}\\PY{o}{/}\\PY{l+m+mi}{2}       \\PY{c+c1}{\\PYZsh{} Red light, after Rayleigh Scattering, has an apparent shift in angle of +90 degrees which we add here for simplicity}\n",
      "        \\PY{n}{colors} \\PY{o}{=} \\PY{p}{[}\\PY{l+s+s1}{\\PYZsq{}}\\PY{l+s+s1}{o}\\PY{l+s+s1}{\\PYZsq{}}\\PY{p}{,} \\PY{l+s+s1}{\\PYZsq{}}\\PY{l+s+s1}{.}\\PY{l+s+s1}{\\PYZsq{}}\\PY{p}{]}   \\PY{c+c1}{\\PYZsh{} After being scattered red photons are still represented by a point but with different color and initial direction }\n",
      "        \n",
      "    \\PY{n}{xyz\\PYZus{}coords} \\PY{o}{=} \\PY{n}{np}\\PY{o}{.}\\PY{n}{column\\PYZus{}stack}\\PY{p}{(}\\PY{p}{(}\\PY{n}{np}\\PY{o}{.}\\PY{n}{sin}\\PY{p}{(}\\PY{n}{theta}\\PY{p}{)} \\PY{o}{*} \\PY{n}{np}\\PY{o}{.}\\PY{n}{cos}\\PY{p}{(}\\PY{n}{phi}\\PY{p}{)}\\PY{p}{,} \\PY{n}{np}\\PY{o}{.}\\PY{n}{sin}\\PY{p}{(}\\PY{n}{theta}\\PY{p}{)}\\PY{p}{,} \\PY{n}{np}\\PY{o}{.}\\PY{n}{cos}\\PY{p}{(}\\PY{n}{theta}\\PY{p}{)}\\PY{p}{)}\\PY{p}{)}    \n",
      "                     \n",
      "    \\PY{n}{fig} \\PY{o}{=} \\PY{n}{plt}\\PY{o}{.}\\PY{n}{figure}\\PY{p}{(}\\PY{p}{)}\n",
      "    \\PY{n}{ax} \\PY{o}{=} \\PY{n}{fig}\\PY{o}{.}\\PY{n}{add\\PYZus{}subplot}\\PY{p}{(}\\PY{l+m+mi}{111}\\PY{p}{,} \\PY{n}{projection}\\PY{o}{=}\\PY{l+s+s1}{\\PYZsq{}}\\PY{l+s+s1}{3d}\\PY{l+s+s1}{\\PYZsq{}}\\PY{p}{)}   \\PY{c+c1}{\\PYZsh{} Creating a 3D plot for visualization of light scattering directionally (photons)}\n",
      "        \n",
      "    \\PY{k}{if} \\PY{n}{scattering} \\PY{o}{==} \\PY{l+s+s1}{\\PYZsq{}}\\PY{l+s+s1}{blue}\\PY{l+s+s1}{\\PYZsq{}}\\PY{p}{:}    \n",
      "        \\PY{n}{m}\\PY{o}{=}\\PY{n}{ax}\\PY{o}{.}\\PY{n}{scatter}\\PY{p}{(}\\PY{n}{xyz\\PYZus{}coords}\\PY{p}{[}\\PY{p}{:}\\PY{p}{,}\\PY{l+m+mi}{0}\\PY{p}{]}\\PY{p}{,} \\PY{n}{xyz\\PYZus{}coords}\\PY{p}{[}\\PY{p}{:}\\PY{p}{,}\\PY{l+m+mi}{1}\\PY{p}{]}\\PY{p}{,} \\PY{n}{xyz\\PYZus{}coords}\\PY{p}{[}\\PY{p}{:}\\PY{p}{,}\\PY{l+m+mi}{2}\\PY{p}{]}\\PY{p}{)}   \\PY{c+c1}{\\PYZsh{} Scatter blue photon points along the original direction without a significant angle change due to Rayleigh Scattering }\n",
      "    \\PY{k}{elif} \\PY{n}{scattering} \\PY{o}{==} \\PY{l+s+s1}{\\PYZsq{}}\\PY{l+s+s1}{red}\\PY{l+s+s1}{\\PYZsq{}}\\PY{p}{:}    \n",
      "        \\PY{n}{m}\\PY{o}{=}\\PY{n}{ax}\\PY{o}{.}\\PY{n}{scatter}\\PY{p}{(}\\PY{n}{xyz\\PYZus{}coords}\\PY{p}{[}\\PY{p}{:}\\PY{p}{,}\\PY{l+m+mi}{0}\\PY{p}{]} \\PY{o}{+} \\PY{n}{np}\\PY{o}{.}\\PY{n}{sin}\\PY{p}{(}\\PY{n}{theta}\\PY{p}{)}\\PY{p}{,} \\PY{n}{xyz\\PYZus{}coords}\\PY{p}{[}\\PY{p}{:}\\PY{p}{,}\\PY{l+m+mi}{1}\\PY{p}{]}\\PY{p}{,} \\PY{o}{\\PYZhy{}}\\PY{n}{np}\\PY{o}{.}\\PY{n}{cos}\\PY{p}{(}\\PY{n}{phi}\\PY{p}{)}\\PY{p}{)}   \\PY{c+c1}{\\PYZsh{} Red photons tend towards the ground (along negative z\\PYZhy{}axis) after Rayleigh Scattering }\n",
      "    \n",
      "    \\PY{n}{ax}\\PY{o}{.}\\PY{n}{set\\PYZus{}xlabel}\\PY{p}{(}\\PY{l+s+s1}{\\PYZsq{}}\\PY{l+s+s1}{X}\\PY{l+s+s1}{\\PYZsq{}}\\PY{p}{)}       \n",
      "    \\PY{n}{ax}\\PY{o}{.}\\PY{n}{set\\PYZus{}ylabel}\\PY{p}{(}\\PY{l+s+s1}{\\PYZsq{}}\\PY{l+s+s1}{Y}\\PY{l+s+s1}{\\PYZsq{}}\\PY{p}{)}        \n",
      "    \\PY{n}{plt}\\PY{o}{.}\\PY{n}{title}\\PY{p}{(}\\PY{l+s+s2}{\\PYZdq{}}\\PY{l+s+s2}{Simulation of light scattering}\\PY{l+s+s2}{\\PYZdq{}}\\PY{p}{)}     \n",
      "                         \n",
      "\\PY{n}{simulate\\PYZus{}light\\PYZus{}scatter}\\PY{p}{(}\\PY{n}{num\\PYZus{}photons}\\PY{o}{=}\\PY{l+m+mi}{10}\\PY{p}{,} \\PY{n}{scattering}\\PY{o}{=}\\PY{l+s+s1}{\\PYZsq{}}\\PY{l+s+s1}{blue}\\PY{l+s+s1}{\\PYZsq{}}\\PY{p}{)}  \\PY{c+c1}{\\PYZsh{} Demonstrate for blue photons only (less scattered)  }\n",
      "\\PY{n}{plt}\\PY{o}{.}\\PY{n}{show}\\PY{p}{(}\\PY{p}{)}       \n",
      "\\end{Verbatim}\n",
      "\n",
      "\\end{verbatim}        \n",
      "Please note that this is a very simple model and it just simulates light trajectories post-interaction with atmosphere molecules; real Rayleigh Scatterings are more complex, occurring in three dimensions where scatterers have varied sizes leading to Mie Scatters as well. This script provides an intuitive visualization of how different colors (wavelengths) might behave after interacting with the Earth's atmosphere and ultimately why we see a blue sky most times during daylight hours when considering only Rayleigh Scatterings, without absorption effects or phase changes in light waves which would complicate this simple model.\n",
      "\n",
      "For actual scientific calculation of scatter probabilities for different wavelengths within atmospheric conditions (particularly with humidity), more sophisticated modelling software/tools are required that consider complex physical and chemical properties, as well as the spatial distribution & sizes range in Earth' atmosphere particles.\n"
     ]
    }
   ],
   "source": [
    "import ollama\n",
    "from sympy import sympify, latex\n",
    "from pygments import highlight\n",
    "from pygments.lexers import PythonLexer\n",
    "from pygments.formatters import LatexFormatter\n",
    "\n",
    "def process_content(content):\n",
    "    # Split content into parts (assuming math is enclosed in $$ and code in ```)\n",
    "    parts = content.split('$$')\n",
    "    \n",
    "    processed_parts = []\n",
    "    for i, part in enumerate(parts):\n",
    "        if i % 2 == 1:  # This is a math part\n",
    "            try:\n",
    "                expr = sympify(part)\n",
    "                latex_math = f\"$${latex(expr)}$$\"\n",
    "                processed_parts.append(latex_math)\n",
    "            except:\n",
    "                processed_parts.append(f\"$${part}$$\")\n",
    "        else:  # This is a text part, check for code blocks\n",
    "            code_parts = part.split('```')\n",
    "            for j, code_part in enumerate(code_parts):\n",
    "                if j % 2 == 1:  # This is a code part\n",
    "                    highlighted = highlight(code_part, PythonLexer(), LatexFormatter())\n",
    "                    processed_parts.append(f\"\\\\begin{{verbatim}}\\n{highlighted}\\n\\\\end{{verbatim}}\")\n",
    "                else:\n",
    "                    processed_parts.append(code_part)\n",
    "    \n",
    "    return ''.join(processed_parts)\n",
    "\n",
    "# Use Ollama to generate content\n",
    "stream = ollama.chat(\n",
    "    model='phi3.5',\n",
    "    messages=[{'role': 'user', 'content': 'Why is the sky blue? Include a simple Python function to demonstrate light scattering.'}],\n",
    "    stream=True,\n",
    ")\n",
    "\n",
    "# Collect the entire response\n",
    "full_response = ''\n",
    "for chunk in stream:\n",
    "    full_response += chunk['message']['content']\n",
    "\n",
    "# Process the content\n",
    "processed_content = process_content(full_response)\n",
    "\n",
    "# Print the processed content (in a real scenario, you'd typically save this to a .tex file)\n",
    "print(processed_content)"
   ]
  },
  {
   "cell_type": "code",
   "execution_count": null,
   "metadata": {},
   "outputs": [],
   "source": []
  }
 ],
 "metadata": {
  "kernelspec": {
   "display_name": "Python 3",
   "language": "python",
   "name": "python3"
  },
  "language_info": {
   "codemirror_mode": {
    "name": "ipython",
    "version": 3
   },
   "file_extension": ".py",
   "mimetype": "text/x-python",
   "name": "python",
   "nbconvert_exporter": "python",
   "pygments_lexer": "ipython3",
   "version": "3.12.4"
  }
 },
 "nbformat": 4,
 "nbformat_minor": 2
}
